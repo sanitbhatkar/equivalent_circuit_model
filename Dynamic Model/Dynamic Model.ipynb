{
 "cells": [
  {
   "cell_type": "markdown",
   "id": "da634f78",
   "metadata": {},
   "source": [
    "## Functions required for the code"
   ]
  },
  {
   "cell_type": "markdown",
   "id": "38af23f3",
   "metadata": {},
   "source": [
    "__Nested Key Finding Function__"
   ]
  },
  {
   "cell_type": "code",
   "execution_count": 16,
   "id": "b43ade7d",
   "metadata": {},
   "outputs": [],
   "source": [
    "def nest_key(d, indent=0):\n",
    "    \n",
    "    for key, value in d.items():\n",
    "        \n",
    "        print('\\t' * indent + f'{key}')\n",
    "        \n",
    "        if isinstance(value, dict):\n",
    "            \n",
    "            nest_key(value, indent+1)"
   ]
  },
  {
   "cell_type": "markdown",
   "id": "c7ef4d30",
   "metadata": {},
   "source": [
    "__Interpolation Function__"
   ]
  },
  {
   "cell_type": "code",
   "execution_count": 17,
   "id": "2ea57e2b",
   "metadata": {},
   "outputs": [],
   "source": [
    "from scipy.interpolate import interp1d"
   ]
  },
  {
   "cell_type": "code",
   "execution_count": 18,
   "id": "ca119abb",
   "metadata": {},
   "outputs": [],
   "source": [
    "def interp_ocv(z,OCV):\n",
    "    \n",
    "    dum = interp1d(z,OCV)\n",
    "    \n",
    "    return dum"
   ]
  },
  {
   "cell_type": "markdown",
   "id": "0fa7f1be",
   "metadata": {},
   "source": [
    "__OCV calculation for any SOC value__"
   ]
  },
  {
   "cell_type": "code",
   "execution_count": 19,
   "id": "227f56ab",
   "metadata": {},
   "outputs": [],
   "source": [
    "def OCV_from_SOC(data,OCV_0,OCV_rel,temp,eta,Q):\n",
    "\n",
    "    etaik = data['S1']['current']\n",
    "\n",
    "    # Negative current tends to increase the SOC thus it is charging current\n",
    "    etaik[etaik < 0] = eta*etaik[etaik < 0]\n",
    "\n",
    "    z = 1 - np.cumsum(etaik)*1/(Q*3600)  \n",
    "\n",
    "    # OCV calculation from the given SOC (Coloumb Counting)\n",
    "\n",
    "    OCV_0_z = interp_ocv(SOC,OCV_0)(z)\n",
    "    OCV_rel_z = interp_ocv(SOC,OCV_rel)(z)\n",
    "\n",
    "    tmp = int(temp[-2:])\n",
    "\n",
    "    if (temp[-3] == 'N'):\n",
    "\n",
    "        tmp = -tmp\n",
    "\n",
    "    tmp\n",
    "\n",
    "    ocv_z = OCV_0_z + tmp*OCV_rel_z\n",
    "\n",
    "    return (ocv_z,z)"
   ]
  },
  {
   "cell_type": "markdown",
   "id": "32659781",
   "metadata": {},
   "source": [
    "## Main Code"
   ]
  },
  {
   "cell_type": "markdown",
   "id": "f1a43fb5",
   "metadata": {},
   "source": [
    "__File Input__"
   ]
  },
  {
   "cell_type": "code",
   "execution_count": 20,
   "id": "bd5ae227",
   "metadata": {},
   "outputs": [],
   "source": [
    "d = pd.read_pickle('A123_OCV_Dynamic.pkl')\n",
    "stat_model = pd.read_pickle('Static Model.pkl')"
   ]
  },
  {
   "cell_type": "code",
   "execution_count": 21,
   "id": "db39a07b",
   "metadata": {
    "collapsed": true
   },
   "outputs": [
    {
     "name": "stdout",
     "output_type": "stream",
     "text": [
      "10_N25\n",
      "\tS1\n",
      "\t\ttime\n",
      "\t\tstep\n",
      "\t\tcurrent\n",
      "\t\tvoltage\n",
      "\t\tcharge_cap\n",
      "\t\tdischarge_cap\n",
      "\tS2\n",
      "\t\ttime\n",
      "\t\tstep\n",
      "\t\tcurrent\n",
      "\t\tvoltage\n",
      "\t\tcharge_cap\n",
      "\t\tdischarge_cap\n",
      "\tS3\n",
      "\t\ttime\n",
      "\t\tstep\n",
      "\t\tcurrent\n",
      "\t\tvoltage\n",
      "\t\tcharge_cap\n",
      "\t\tdischarge_cap\n",
      "10_N15\n",
      "\tS1\n",
      "\t\ttime\n",
      "\t\tstep\n",
      "\t\tcurrent\n",
      "\t\tvoltage\n",
      "\t\tcharge_cap\n",
      "\t\tdischarge_cap\n",
      "\tS2\n",
      "\t\ttime\n",
      "\t\tstep\n",
      "\t\tcurrent\n",
      "\t\tvoltage\n",
      "\t\tcharge_cap\n",
      "\t\tdischarge_cap\n",
      "\tS3\n",
      "\t\ttime\n",
      "\t\tstep\n",
      "\t\tcurrent\n",
      "\t\tvoltage\n",
      "\t\tcharge_cap\n",
      "\t\tdischarge_cap\n",
      "30_N05\n",
      "\tS1\n",
      "\t\ttime\n",
      "\t\tstep\n",
      "\t\tcurrent\n",
      "\t\tvoltage\n",
      "\t\tcharge_cap\n",
      "\t\tdischarge_cap\n",
      "\tS2\n",
      "\t\ttime\n",
      "\t\tstep\n",
      "\t\tcurrent\n",
      "\t\tvoltage\n",
      "\t\tcharge_cap\n",
      "\t\tdischarge_cap\n",
      "\tS3\n",
      "\t\ttime\n",
      "\t\tstep\n",
      "\t\tcurrent\n",
      "\t\tvoltage\n",
      "\t\tcharge_cap\n",
      "\t\tdischarge_cap\n",
      "45_P05\n",
      "\tS1\n",
      "\t\ttime\n",
      "\t\tstep\n",
      "\t\tcurrent\n",
      "\t\tvoltage\n",
      "\t\tcharge_cap\n",
      "\t\tdischarge_cap\n",
      "\tS2\n",
      "\t\ttime\n",
      "\t\tstep\n",
      "\t\tcurrent\n",
      "\t\tvoltage\n",
      "\t\tcharge_cap\n",
      "\t\tdischarge_cap\n",
      "\tS3\n",
      "\t\ttime\n",
      "\t\tstep\n",
      "\t\tcurrent\n",
      "\t\tvoltage\n",
      "\t\tcharge_cap\n",
      "\t\tdischarge_cap\n",
      "45_P15\n",
      "\tS1\n",
      "\t\ttime\n",
      "\t\tstep\n",
      "\t\tcurrent\n",
      "\t\tvoltage\n",
      "\t\tcharge_cap\n",
      "\t\tdischarge_cap\n",
      "\tS2\n",
      "\t\ttime\n",
      "\t\tstep\n",
      "\t\tcurrent\n",
      "\t\tvoltage\n",
      "\t\tcharge_cap\n",
      "\t\tdischarge_cap\n",
      "\tS3\n",
      "\t\ttime\n",
      "\t\tstep\n",
      "\t\tcurrent\n",
      "\t\tvoltage\n",
      "\t\tcharge_cap\n",
      "\t\tdischarge_cap\n",
      "50_P25\n",
      "\tS1\n",
      "\t\ttime\n",
      "\t\tstep\n",
      "\t\tcurrent\n",
      "\t\tvoltage\n",
      "\t\tcharge_cap\n",
      "\t\tdischarge_cap\n",
      "\tS2\n",
      "\t\ttime\n",
      "\t\tstep\n",
      "\t\tcurrent\n",
      "\t\tvoltage\n",
      "\t\tcharge_cap\n",
      "\t\tdischarge_cap\n",
      "\tS3\n",
      "\t\ttime\n",
      "\t\tstep\n",
      "\t\tcurrent\n",
      "\t\tvoltage\n",
      "\t\tcharge_cap\n",
      "\t\tdischarge_cap\n",
      "50_P35\n",
      "\tS1\n",
      "\t\ttime\n",
      "\t\tstep\n",
      "\t\tcurrent\n",
      "\t\tvoltage\n",
      "\t\tcharge_cap\n",
      "\t\tdischarge_cap\n",
      "\tS2\n",
      "\t\ttime\n",
      "\t\tstep\n",
      "\t\tcurrent\n",
      "\t\tvoltage\n",
      "\t\tcharge_cap\n",
      "\t\tdischarge_cap\n",
      "\tS3\n",
      "\t\ttime\n",
      "\t\tstep\n",
      "\t\tcurrent\n",
      "\t\tvoltage\n",
      "\t\tcharge_cap\n",
      "\t\tdischarge_cap\n",
      "50_P45\n",
      "\tS1\n",
      "\t\ttime\n",
      "\t\tstep\n",
      "\t\tcurrent\n",
      "\t\tvoltage\n",
      "\t\tcharge_cap\n",
      "\t\tdischarge_cap\n",
      "\tS2\n",
      "\t\ttime\n",
      "\t\tstep\n",
      "\t\tcurrent\n",
      "\t\tvoltage\n",
      "\t\tcharge_cap\n",
      "\t\tdischarge_cap\n",
      "\tS3\n",
      "\t\ttime\n",
      "\t\tstep\n",
      "\t\tcurrent\n",
      "\t\tvoltage\n",
      "\t\tcharge_cap\n",
      "\t\tdischarge_cap\n"
     ]
    }
   ],
   "source": [
    "nest_key(d)"
   ]
  },
  {
   "cell_type": "code",
   "execution_count": 22,
   "id": "8f4aa66f",
   "metadata": {},
   "outputs": [],
   "source": [
    "mag_list = list(d.keys())\n",
    "script_list = list(d[mag_list[0]].keys())"
   ]
  },
  {
   "cell_type": "code",
   "execution_count": 23,
   "id": "303d6842",
   "metadata": {},
   "outputs": [
    {
     "data": {
      "text/plain": [
       "['10_N25',\n",
       " '10_N15',\n",
       " '30_N05',\n",
       " '45_P05',\n",
       " '45_P15',\n",
       " '50_P25',\n",
       " '50_P35',\n",
       " '50_P45']"
      ]
     },
     "execution_count": 23,
     "metadata": {},
     "output_type": "execute_result"
    }
   ],
   "source": [
    "mag_list"
   ]
  },
  {
   "cell_type": "markdown",
   "id": "c5d74366",
   "metadata": {},
   "source": [
    "__Model Input Variables__"
   ]
  },
  {
   "cell_type": "code",
   "execution_count": 24,
   "id": "3eabb54e",
   "metadata": {},
   "outputs": [
    {
     "data": {
      "text/plain": [
       "dict_keys(['OCV_0', 'OCV_rel', 'SOC', 'v', 'SOC_0', 'SOC_rel'])"
      ]
     },
     "execution_count": 24,
     "metadata": {},
     "output_type": "execute_result"
    }
   ],
   "source": [
    "stat_model.keys()"
   ]
  },
  {
   "cell_type": "code",
   "execution_count": 25,
   "id": "cc7fd59f",
   "metadata": {},
   "outputs": [],
   "source": [
    "# Static model parameters\n",
    "\n",
    "SOC = stat_model['SOC']\n",
    "OCV_0 = stat_model['OCV_0'] \n",
    "OCV_rel = stat_model['OCV_rel']\n",
    "\n",
    "\n",
    "data_25 = d['50_P25']\n",
    "total_dis_cap = 0\n",
    "total_chg_cap = 0\n",
    "out_d = {}"
   ]
  },
  {
   "cell_type": "markdown",
   "id": "898f19ad",
   "metadata": {},
   "source": [
    "___Calculations at 25°C___"
   ]
  },
  {
   "cell_type": "code",
   "execution_count": 26,
   "id": "58a2383c",
   "metadata": {},
   "outputs": [],
   "source": [
    "# Total Discharge Capacity\n",
    "\n",
    "for i in script_list:\n",
    "    \n",
    "    total_dis_cap = total_dis_cap + np.array(data_25[i]['discharge_cap'])[-1]\n",
    "    \n",
    "# total Charging Capacity\n",
    "\n",
    "for i in script_list:\n",
    "    \n",
    "    total_chg_cap = total_chg_cap + np.array(data_25[i]['charge_cap'])[-1]\n",
    "\n",
    "# Coloumb efficiency calculation\n",
    "\n",
    "eta25 = total_dis_cap/total_chg_cap\n",
    "\n",
    "# Adjusting the charge capacity \n",
    "\n",
    "for i in script_list:\n",
    "    \n",
    "    data_25[i]['charge_cap'] = eta25*data_25[i]['charge_cap']\n",
    "    \n",
    "# Total battery capacity \n",
    "# Should be same at all the temperatures if battery degradation is not present\n",
    "\n",
    "Q = (np.array(data_25['S1']['discharge_cap'])[-1] + \\\n",
    "    np.array(data_25['S2']['discharge_cap'])[-1] - \\\n",
    "    np.array(data_25['S1']['charge_cap'])[-1] - \\\n",
    "    np.array(data_25['S2']['charge_cap'])[-1])\n",
    "\n",
    "# OCV calculation for test SOC\n",
    "\n",
    "(ocv_z,z) = OCV_from_SOC(data_25,OCV_0,OCV_rel,'50_P25',eta25,Q)\n",
    "\n",
    "# Storing the data in the dictionary\n",
    "\n",
    "out_d['50_P25'] = {}\n",
    "out_d['50_P25']['eta'] = eta25\n",
    "out_d['50_P25']['Q']  = Q"
   ]
  },
  {
   "cell_type": "markdown",
   "id": "a7aa6417",
   "metadata": {},
   "source": [
    "___Calculation at any temperature___"
   ]
  },
  {
   "cell_type": "code",
   "execution_count": 27,
   "id": "1d4b1459",
   "metadata": {},
   "outputs": [],
   "source": [
    "temp_list = mag_list\n",
    "temp_list.remove('50_P25')"
   ]
  },
  {
   "cell_type": "code",
   "execution_count": 28,
   "id": "8b49997e",
   "metadata": {},
   "outputs": [
    {
     "data": {
      "text/plain": [
       "['10_N25', '10_N15', '30_N05', '45_P05', '45_P15', '50_P35', '50_P45']"
      ]
     },
     "execution_count": 28,
     "metadata": {},
     "output_type": "execute_result"
    }
   ],
   "source": [
    "temp_list"
   ]
  },
  {
   "cell_type": "code",
   "execution_count": 29,
   "id": "b7e5477f",
   "metadata": {},
   "outputs": [],
   "source": [
    "for temp in temp_list:\n",
    "\n",
    "    data = d[temp]\n",
    "    total_dis_cap = 0\n",
    "    total_chg_cap = 0\n",
    "\n",
    "\n",
    "    data['S2']['charge_cap'] = eta25*data['S2']['charge_cap']\n",
    "    data['S3']['charge_cap'] = eta25*data['S3']['charge_cap']\n",
    "\n",
    "    # Total Discharge Capacity\n",
    "\n",
    "    for i in script_list:\n",
    "\n",
    "        total_dis_cap = total_dis_cap + np.array(data[i]['discharge_cap'])[-1]\n",
    "\n",
    "    total_dis_cap = total_dis_cap - np.array(data['S2']['charge_cap'])[-1] - np.array(data['S3']['charge_cap'])[-1]\n",
    "\n",
    "    # total Charging Capacity\n",
    "\n",
    "    for i in script_list:\n",
    "\n",
    "        total_chg_cap = total_chg_cap + np.array(data[i]['charge_cap'])[-1]\n",
    "\n",
    "    total_chg_cap = total_chg_cap - np.array(data['S2']['charge_cap'])[-1] - np.array(data['S3']['charge_cap'])[-1]\n",
    "\n",
    "    # Coloumb efficiency calculation\n",
    "\n",
    "    eta = total_dis_cap/total_chg_cap\n",
    "\n",
    "    # Adjusting the charge capacity \n",
    "\n",
    "    for i in ['S1','S3']:\n",
    "\n",
    "        data[i]['charge_cap'] = eta*data[i]['charge_cap']\n",
    "\n",
    "    Q = (np.array(data['S1']['discharge_cap'])[-1] + \\\n",
    "           np.array(data['S2']['discharge_cap'])[-1] - \\\n",
    "           np.array(data['S1']['charge_cap'])[-1] - \\\n",
    "           np.array(data['S2']['charge_cap'])[-1])\n",
    "    \n",
    "    \n",
    "    # OCV calculation for test SOC\n",
    "\n",
    "    (ocv_z,z) = OCV_from_SOC(data,OCV_0,OCV_rel,temp,eta,Q)\n",
    "    \n",
    "    # Storing the data in the dictionary\n",
    "\n",
    "    out_d[temp] = {}\n",
    "    out_d[temp]['eta'] = eta\n",
    "    out_d[temp]['Q']  = Q\n",
    "    "
   ]
  },
  {
   "cell_type": "code",
   "execution_count": 30,
   "id": "d511c80c",
   "metadata": {
    "scrolled": false
   },
   "outputs": [
    {
     "data": {
      "text/plain": [
       "{'50_P25': {'eta': 0.9944503313637096, 'Q': 2.0495322455503873},\n",
       " '10_N25': {'eta': 0.935275088307756, 'Q': 2.0559745289965687},\n",
       " '10_N15': {'eta': 0.9687882710682045, 'Q': 2.0572662044936147},\n",
       " '30_N05': {'eta': 0.9892038434260564, 'Q': 2.063050665421433},\n",
       " '45_P05': {'eta': 0.995362805532912, 'Q': 2.046536130318432},\n",
       " '45_P15': {'eta': 0.9952676564918135, 'Q': 2.0518072720415232},\n",
       " '50_P35': {'eta': 0.99366379588643, 'Q': 2.0498289157492047},\n",
       " '50_P45': {'eta': 0.992410804916624, 'Q': 2.0432672084627956}}"
      ]
     },
     "execution_count": 30,
     "metadata": {},
     "output_type": "execute_result"
    }
   ],
   "source": [
    "out_d"
   ]
  },
  {
   "cell_type": "code",
   "execution_count": null,
   "id": "485db9de",
   "metadata": {},
   "outputs": [],
   "source": []
  }
 ],
 "metadata": {
  "kernelspec": {
   "display_name": "Python 3 (ipykernel)",
   "language": "python",
   "name": "python3"
  },
  "language_info": {
   "codemirror_mode": {
    "name": "ipython",
    "version": 3
   },
   "file_extension": ".py",
   "mimetype": "text/x-python",
   "name": "python",
   "nbconvert_exporter": "python",
   "pygments_lexer": "ipython3",
   "version": "3.9.15"
  }
 },
 "nbformat": 4,
 "nbformat_minor": 5
}
