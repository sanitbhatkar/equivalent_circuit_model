{
 "cells": [
  {
   "cell_type": "code",
   "execution_count": 1,
   "id": "5a7bd128",
   "metadata": {},
   "outputs": [],
   "source": [
    "os.chdir('G:\\Sanit_Horizontal\\Batteries\\Battery codes\\Equivalent circuit model\\dyn_data')"
   ]
  },
  {
   "cell_type": "markdown",
   "id": "07e8e4e6",
   "metadata": {},
   "source": [
    "## Function required for the code"
   ]
  },
  {
   "cell_type": "markdown",
   "id": "12c2738b",
   "metadata": {},
   "source": [
    "__Nested Key Finding Function__"
   ]
  },
  {
   "cell_type": "code",
   "execution_count": 2,
   "id": "645b388e",
   "metadata": {},
   "outputs": [],
   "source": [
    "def nest_key(d, indent=0):\n",
    "    \n",
    "    for key, value in d.items():\n",
    "        \n",
    "        print('\\t' * indent + f'{key}')\n",
    "        \n",
    "        if isinstance(value, dict):\n",
    "            \n",
    "            nest_key(value, indent+1)"
   ]
  },
  {
   "cell_type": "markdown",
   "id": "97882fb9",
   "metadata": {},
   "source": [
    "__Function for File Storage to Dictionary__"
   ]
  },
  {
   "cell_type": "code",
   "execution_count": 3,
   "id": "243ce4e3",
   "metadata": {},
   "outputs": [],
   "source": [
    "def data_dict(file_name,col_name):\n",
    "    \n",
    "    # Reading the CSV file\n",
    "    \n",
    "    df = pd.read_csv(file_name)\n",
    "    df.columns = col_name\n",
    "\n",
    "\n",
    "    # Dictionary used for saving the data\n",
    "\n",
    "    return df.to_dict('series')"
   ]
  },
  {
   "cell_type": "markdown",
   "id": "bf2ec496",
   "metadata": {},
   "source": [
    "## Main Code"
   ]
  },
  {
   "cell_type": "code",
   "execution_count": 4,
   "id": "dfa35b32",
   "metadata": {},
   "outputs": [],
   "source": [
    "str = ['10_N25', '10_N15', '30_N05', '45_P05', '45_P15', '50_P25', '50_P35', '50_P45']\n",
    "script_list = ['S1','S2','S3']\n",
    "column_name = ['time','step','current','voltage','charge_cap','discharge_cap']\n",
    "d = {}"
   ]
  },
  {
   "cell_type": "code",
   "execution_count": 5,
   "id": "fbb4e5a6",
   "metadata": {},
   "outputs": [],
   "source": [
    "for i in range(len(str)):\n",
    "    \n",
    "    d[str[i]] = {}\n",
    "    \n",
    "    for j in range(len(script_list)):\n",
    "        \n",
    "        file_name = f'A123_DYN_{str[i]}_{script_list[j]}.csv'\n",
    "        d[str[i]][script_list[j]] = data_dict(file_name,column_name)\n",
    "\n",
    "    "
   ]
  },
  {
   "cell_type": "markdown",
   "id": "38dc7641",
   "metadata": {},
   "source": [
    "__Storing the data in pickle format__"
   ]
  },
  {
   "cell_type": "code",
   "execution_count": 6,
   "id": "9bb26ba5",
   "metadata": {},
   "outputs": [],
   "source": [
    "import pickle\n",
    "f = open(\"A123_OCV_Dynamic.pkl\",\"wb\")\n",
    "\n",
    "pickle.dump(d,f)\n",
    "\n",
    "# close file\n",
    "f.close()"
   ]
  }
 ],
 "metadata": {
  "kernelspec": {
   "display_name": "Python 3 (ipykernel)",
   "language": "python",
   "name": "python3"
  },
  "language_info": {
   "codemirror_mode": {
    "name": "ipython",
    "version": 3
   },
   "file_extension": ".py",
   "mimetype": "text/x-python",
   "name": "python",
   "nbconvert_exporter": "python",
   "pygments_lexer": "ipython3",
   "version": "3.9.15"
  }
 },
 "nbformat": 4,
 "nbformat_minor": 5
}
