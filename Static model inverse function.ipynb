{
 "cells": [
  {
   "cell_type": "code",
   "execution_count": 1,
   "id": "e4d5eb42",
   "metadata": {},
   "outputs": [],
   "source": [
    "from scipy.interpolate import interp1d"
   ]
  },
  {
   "cell_type": "code",
   "execution_count": 2,
   "id": "1b020ed9",
   "metadata": {},
   "outputs": [],
   "source": [
    "d = pd.read_pickle('A123_OCV_vs_SOC_data.pkl')\n",
    "d = dict(sorted(d.items()))"
   ]
  },
  {
   "cell_type": "code",
   "execution_count": 3,
   "id": "2957c7d2",
   "metadata": {},
   "outputs": [
    {
     "data": {
      "text/plain": [
       "dict_keys(['N05', 'N15', 'N25', 'P05', 'P15', 'P25', 'P35', 'P45'])"
      ]
     },
     "execution_count": 3,
     "metadata": {},
     "output_type": "execute_result"
    }
   ],
   "source": [
    "d.keys()"
   ]
  },
  {
   "cell_type": "markdown",
   "id": "cd1a496c",
   "metadata": {},
   "source": [
    "## Model Functions"
   ]
  },
  {
   "cell_type": "markdown",
   "id": "63813395",
   "metadata": {},
   "source": [
    "__Nested Key Finding Function__"
   ]
  },
  {
   "cell_type": "code",
   "execution_count": 4,
   "id": "e4711cca",
   "metadata": {},
   "outputs": [],
   "source": [
    "def nest_key(d, indent=0):\n",
    "    \n",
    "    for key, value in d.items():\n",
    "        \n",
    "        print('\\t' * indent + f'{key}')\n",
    "        \n",
    "        if isinstance(value, dict):\n",
    "            \n",
    "            nest_key(value, indent+1)"
   ]
  },
  {
   "cell_type": "markdown",
   "id": "d5b6fbeb",
   "metadata": {},
   "source": [
    "__Interpolation function__"
   ]
  },
  {
   "cell_type": "code",
   "execution_count": 5,
   "id": "ac44ed50",
   "metadata": {},
   "outputs": [],
   "source": [
    "def interp_ocv(z,OCV):\n",
    "    \n",
    "    dum = interp1d(z,OCV)\n",
    "    \n",
    "    return dum"
   ]
  },
  {
   "cell_type": "markdown",
   "id": "a67c9528",
   "metadata": {},
   "source": [
    "## Model Calculations"
   ]
  },
  {
   "cell_type": "markdown",
   "id": "3b650101",
   "metadata": {},
   "source": [
    "__OCV vs Temperature model__"
   ]
  },
  {
   "cell_type": "markdown",
   "id": "4876d85c",
   "metadata": {},
   "source": [
    "We are making assumption that OCV varies linearly with the temperature. 0°C is considered as reference tempearture for fittimg the model. Since we have reference point at 0°C, we are going to remove the negative temperatures from the model fit. Author used ___Linear Least Square Method___ to ge the OCV relation.\n",
    "\n",
    "$$OCV(Z(t),T(t)) = OCV_{0}[Z(t)] + T(t)\\times OCV_{rel}[Z(t)]$$<br>\n",
    "\n",
    "$$\\begin{bmatrix}OCV|T_{1}\\\\OCV|T_{2}\\\\ ...\\\\ OCV|T_{3}\\end{bmatrix} =\\begin{bmatrix}1 & T_{1}\\\\ 1 &  T_{2}\\\\...& ... \\\\ 1 & T_{3}\\end{bmatrix}\\cdot\\begin{bmatrix}OCV_{0}[Z(t)]\\\\OCV_{rel}[Z(t))] \\end{bmatrix}$$<br>\n",
    "\n",
    "$$Y = A\\cdot X$$\n",
    "\n",
    "$$X = A\\Y$$"
   ]
  },
  {
   "cell_type": "code",
   "execution_count": 6,
   "id": "b7115a94",
   "metadata": {},
   "outputs": [],
   "source": [
    "temp_list = [5,15,25,35,45]\n",
    "SOC = d['P25']['SOC']\n",
    "OCV_0 = np.zeros(len(SOC))\n",
    "OCV_rel =np.zeros(len(SOC))"
   ]
  },
  {
   "cell_type": "code",
   "execution_count": 7,
   "id": "90826c5c",
   "metadata": {},
   "outputs": [],
   "source": [
    "A = np.ones([len(temp_list),2])\n",
    "A[:,1] = temp_list\n",
    "Y = np.zeros([len(temp_list),len(SOC)])"
   ]
  },
  {
   "cell_type": "code",
   "execution_count": 8,
   "id": "95bebe9a",
   "metadata": {},
   "outputs": [],
   "source": [
    "for i in np.arange(0,len(temp_list),1):\n",
    "    \n",
    "    dum = f'P{str(temp_list[i]).zfill(2)}'\n",
    "    \n",
    "    Y[i] = d[dum]['ocv']"
   ]
  },
  {
   "cell_type": "code",
   "execution_count": 9,
   "id": "763688ba",
   "metadata": {},
   "outputs": [],
   "source": [
    "for i in range(len(SOC)):\n",
    "    \n",
    "    X = np.linalg.lstsq(A,Y[:,i], rcond = None)\n",
    "    \n",
    "    OCV_0[i] = X[0][0]\n",
    "    OCV_rel[i] = X[0][1]"
   ]
  },
  {
   "cell_type": "markdown",
   "id": "83672263",
   "metadata": {},
   "source": [
    "We are more interested in getting the SOC prediction if the voltage is known to us. Thus we will give voltage as input to get the SOC relation with temperature.\n",
    "\n",
    "$$SOC(OCV(t),T(t)) = SOC_{0}[OCV(t)] + T(t)\\times SOC_{rel}[OCV(t)]$$<br>\n",
    "\n",
    "$$\\begin{bmatrix}SOC|T_{1}\\\\SOC|T_{2}\\\\ ...\\\\ SOC|T_{3}\\end{bmatrix} =\\begin{bmatrix}1 & T_{1}\\\\ 1 &  T_{2}\\\\...& ... \\\\ 1 & T_{3}\\end{bmatrix}\\cdot\\begin{bmatrix}SOC_{0}[OCV(t)]\\\\SOC_{rel}[OCV(t))] \\end{bmatrix}$$<br>\n",
    "\n",
    "$$Y = A\\cdot X$$\n",
    "\n",
    "$$X = A\\Y$$"
   ]
  },
  {
   "cell_type": "code",
   "execution_count": 10,
   "id": "b1deca44",
   "metadata": {},
   "outputs": [],
   "source": [
    "minV = 2.00\n",
    "maxV = 3.75\n",
    "v = np.arange(minV,maxV+0.01,0.01)\n",
    "\n",
    "# Custom values of SOC\n",
    "z = np.arange(0, 1.01, 0.01)\n",
    "ocv_z = np.zeros([len(temp_list),len(z)])\n",
    "soc = np.zeros([len(temp_list),len(v)])"
   ]
  },
  {
   "cell_type": "markdown",
   "id": "7bac6106",
   "metadata": {},
   "source": [
    "Negative SOC values are taken as it might happen that we record the voltages lower than the lowest stored soc point. We are not including this effect in our model."
   ]
  },
  {
   "cell_type": "code",
   "execution_count": 11,
   "id": "f596f393",
   "metadata": {},
   "outputs": [],
   "source": [
    "for i in range(len(temp_list)):\n",
    "\n",
    "    OCV_0_z = interp_ocv(SOC,OCV_0)(z)\n",
    "    OCV_rel_z = interp_ocv(SOC,OCV_rel)(z)\n",
    "\n",
    "    ocv_z[i] = OCV_0_z + temp_list[i]*OCV_rel_z\n",
    "    soc[i,:] = np.interp(v,ocv_z[i],z)\n",
    "    "
   ]
  },
  {
   "cell_type": "code",
   "execution_count": 12,
   "id": "4a205dbb",
   "metadata": {},
   "outputs": [],
   "source": [
    "SOC_0 = np.zeros(len(v))\n",
    "SOC_rel =np.zeros(len(v))"
   ]
  },
  {
   "cell_type": "code",
   "execution_count": 15,
   "id": "7e937179",
   "metadata": {},
   "outputs": [],
   "source": [
    "for i in range(len(v)):\n",
    "    \n",
    "    X = np.linalg.lstsq(A,soc[:,i], rcond = None)\n",
    "    \n",
    "    SOC_0[i] = X[0][0]\n",
    "    SOC_rel[i] = X[0][1]"
   ]
  },
  {
   "cell_type": "markdown",
   "id": "81b9b268",
   "metadata": {},
   "source": [
    "Thus if the voltage and temperature is known, we can predict the static value of the SOC by the formula\n",
    "\n",
    "$$SOC(OCV(t),T(t)) = SOC_{0}[OCV(t)] + T(t)\\times SOC_{rel}[OCV(t)]$$<br>\n",
    "\n"
   ]
  },
  {
   "cell_type": "code",
   "execution_count": 22,
   "id": "24b664e9",
   "metadata": {},
   "outputs": [],
   "source": [
    "out_d = {}\n",
    "\n",
    "out_d['OCV_0'] = OCV_0\n",
    "out_d['OCV_rel'] = OCV_rel\n",
    "out_d['SOC'] = SOC\n",
    "out_d['v'] = v\n",
    "out_d['SOC_0'] = SOC_0\n",
    "out_d['SOC_rel'] = SOC_rel"
   ]
  },
  {
   "cell_type": "markdown",
   "id": "a91a4418",
   "metadata": {},
   "source": [
    "__Exporting the Dictionary__"
   ]
  },
  {
   "cell_type": "code",
   "execution_count": 23,
   "id": "d0b937c4",
   "metadata": {},
   "outputs": [],
   "source": [
    "import pickle\n",
    "\n",
    "f = open(\"Static Model.pkl\",\"wb\")\n",
    "\n",
    "pickle.dump(out_d,f)\n",
    "\n",
    "# close file\n",
    "f.close()"
   ]
  }
 ],
 "metadata": {
  "kernelspec": {
   "display_name": "Python 3 (ipykernel)",
   "language": "python",
   "name": "python3"
  },
  "language_info": {
   "codemirror_mode": {
    "name": "ipython",
    "version": 3
   },
   "file_extension": ".py",
   "mimetype": "text/x-python",
   "name": "python",
   "nbconvert_exporter": "python",
   "pygments_lexer": "ipython3",
   "version": "3.9.15"
  }
 },
 "nbformat": 4,
 "nbformat_minor": 5
}
