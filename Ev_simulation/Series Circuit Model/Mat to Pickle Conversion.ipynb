{
 "cells": [
  {
   "cell_type": "code",
   "execution_count": 3,
   "id": "6a8548c8",
   "metadata": {
    "scrolled": false
   },
   "outputs": [],
   "source": [
    "from scipy import io\n",
    "\n",
    "# Load the data into Python     \n",
    "D= io.loadmat('E2model.mat')\n",
    "\n",
    "# Extracting the label from the data structure\n",
    "labels = [label for label, _ in D['model'].dtype.fields.items()]\n",
    "\n",
    "# Dictionary Update\n",
    "data = {}\n",
    "for i in np.arange(0,len(labels),1):\n",
    "    \n",
    "    data[labels[i]] = D['model'][0][0][i][0]\n",
    "    \n",
    "    if (np.shape(D['model'][0][0][i])[0] > 1):\n",
    "\n",
    "        data[labels[i]] = D['model'][0][0][i]\n",
    "\n",
    "#     else:\n",
    "        \n",
    "#         data[labels[i]] = D['model'][0][0][i][0] "
   ]
  },
  {
   "cell_type": "markdown",
   "id": "0277138e",
   "metadata": {},
   "source": [
    "__Storing the Data in Pickle Format__"
   ]
  },
  {
   "cell_type": "code",
   "execution_count": 4,
   "id": "991e326e",
   "metadata": {},
   "outputs": [],
   "source": [
    "import pickle\n",
    "f = open(\"E2model.pkl\",\"wb\")\n",
    "\n",
    "pickle.dump(data,f)\n",
    "\n",
    "# close file\n",
    "f.close()"
   ]
  },
  {
   "cell_type": "code",
   "execution_count": null,
   "id": "c591c9e1",
   "metadata": {},
   "outputs": [],
   "source": []
  }
 ],
 "metadata": {
  "kernelspec": {
   "display_name": "Python 3 (ipykernel)",
   "language": "python",
   "name": "python3"
  },
  "language_info": {
   "codemirror_mode": {
    "name": "ipython",
    "version": 3
   },
   "file_extension": ".py",
   "mimetype": "text/x-python",
   "name": "python",
   "nbconvert_exporter": "python",
   "pygments_lexer": "ipython3",
   "version": "3.9.15"
  }
 },
 "nbformat": 4,
 "nbformat_minor": 5
}
