{
 "cells": [
  {
   "cell_type": "markdown",
   "id": "13568ac2",
   "metadata": {},
   "source": [
    "Class object is defined by the author for each subsystem of the model. This simlifies the task of assigning and manipulating the data. "
   ]
  },
  {
   "cell_type": "markdown",
   "id": "58bbb953",
   "metadata": {},
   "source": [
    "__Class : Cell__"
   ]
  },
  {
   "cell_type": "code",
   "execution_count": 175,
   "id": "c9ba5dd8",
   "metadata": {},
   "outputs": [],
   "source": [
    "class cell:\n",
    "    \n",
    "    def __init__(self,capacity, weight, vmax, vnom, vmin):\n",
    "        \n",
    "        # Cell capacity in Amp-hr\n",
    "        self.capacity = capacity\n",
    "        \n",
    "        # Cell weight in g\n",
    "        self.weight = weight\n",
    "        \n",
    "        \n",
    "        self.vmax = vmax\n",
    "        self.vnom = vnom\n",
    "        self.vmin = vmin\n",
    "        \n",
    "    # Defining methods for cell class\n",
    "    \n",
    "    def energy(self):\n",
    "        \n",
    "        # Cell energy in Watt-hr\n",
    "        return self.vnom*self.capacity\n",
    "    \n",
    "    def specific_energy(self):\n",
    "        \n",
    "        # Cell specific energy Wh/kg\n",
    "        return (1000*self.capacity*self.vnom/self.weight)"
   ]
  },
  {
   "cell_type": "markdown",
   "id": "95d26911",
   "metadata": {},
   "source": [
    "__Instancing the Cell class__"
   ]
  },
  {
   "cell_type": "code",
   "execution_count": 176,
   "id": "22fe4394",
   "metadata": {},
   "outputs": [
    {
     "name": "stdout",
     "output_type": "stream",
     "text": [
      "409.99999999999994\n",
      "8199.999999999998\n"
     ]
    }
   ],
   "source": [
    "cell1 = cell(100,50,4.3,4.1,3.8)\n",
    "\n",
    "print(cell1.energy())\n",
    "print(cell1.specific_energy())"
   ]
  },
  {
   "cell_type": "markdown",
   "id": "fe6cc2fe",
   "metadata": {},
   "source": [
    "__Class : Module__"
   ]
  },
  {
   "cell_type": "code",
   "execution_count": 177,
   "id": "06c3f634",
   "metadata": {},
   "outputs": [],
   "source": [
    "class module(cell):\n",
    "    \n",
    "    def __init__(self, numpar, numser, overhead, class_cell):\n",
    "        \n",
    "        # Importing the attributes of the Class: Cell\n",
    "        self.cell_cap = class_cell.capacity\n",
    "        self.cell_weight = class_cell.weight\n",
    "        self.cell_energy = class_cell.energy()\n",
    "        \n",
    "        # Number of parallel cells\n",
    "        self.numpar = numpar\n",
    "        \n",
    "        # Number of series cells\n",
    "        self.numser = numser\n",
    "        \n",
    "        # Overhead percentage\n",
    "        # e.g 10% overhead for packaging, electonics, cooling etc\n",
    "        self.overhead = overhead/100\n",
    "        \n",
    "        # Parameters of the cell\n",
    "        self.cell = cell\n",
    "    \n",
    "    # Defining methods for module class\n",
    "\n",
    "    def numcell(self):\n",
    "        \n",
    "        return (self.numpar*self.numser)\n",
    "    \n",
    "    def mod_cap(self):\n",
    "        \n",
    "        return (self.numpar*self.cell_cap)\n",
    "    \n",
    "    def mod_weight(self):\n",
    "        \n",
    "        # Module weight in Kg\n",
    "        return (self.numcell()*self.cell_weight*(1/(1-self.overhead))/1000)\n",
    "    \n",
    "    def mod_energy(self):\n",
    "        \n",
    "        # Module energy in KWh\n",
    "        return (self.numcell()*self.cell_energy/1000)\n",
    "    \n",
    "    def mod_spec_energy(self):\n",
    "        \n",
    "        # Module specific energy in Wh/kg\n",
    "        return (1000*self.mod_energy()/self.mod_weight())\n",
    "        "
   ]
  },
  {
   "cell_type": "markdown",
   "id": "f6ae0a61",
   "metadata": {},
   "source": [
    "__Instancing the Module class__"
   ]
  },
  {
   "cell_type": "code",
   "execution_count": 178,
   "id": "c35db4cc",
   "metadata": {},
   "outputs": [
    {
     "name": "stdout",
     "output_type": "stream",
     "text": [
      "800\n",
      "1.3333333333333335\n",
      "9.839999999999998\n",
      "7379.999999999998\n"
     ]
    }
   ],
   "source": [
    "mod = module(8,3,10,cell1)\n",
    "\n",
    "print(mod.mod_cap())\n",
    "print(mod.mod_weight())\n",
    "print(mod.mod_energy())\n",
    "print(mod.mod_spec_energy())"
   ]
  },
  {
   "cell_type": "markdown",
   "id": "e421e0f2",
   "metadata": {},
   "source": [
    "__Class : Pack__"
   ]
  },
  {
   "cell_type": "code",
   "execution_count": 179,
   "id": "94520e28",
   "metadata": {},
   "outputs": [],
   "source": [
    "class pack(module):\n",
    "    \n",
    "    def __init__(self,num_mod_ser,mod_overhead,pack_soc_full,pack_soc_empty,eff,class_cell,class_module):\n",
    "        \n",
    "        # Importing the attributes of the Class : Module\n",
    "        self.mod_numcell = class_module.numcell()\n",
    "        self.mod_weight = class_module.mod_weight()\n",
    "        self.mod_energy = class_module.mod_energy()\n",
    "        self.mod_ser = class_module.numser\n",
    "        \n",
    "        # Importing the attributes of the Class : Cell\n",
    "        self.cell_vmax = class_cell.vmax\n",
    "        self.cell_vnom = class_cell.vnom\n",
    "        self.cell_vmin = class_cell.vmin\n",
    "        \n",
    "  \n",
    "        # Number of modules connected in series\n",
    "        self.num_mod = num_mod_ser\n",
    "        \n",
    "        # Pack assembly overheads\n",
    "        self.overhead = mod_overhead/100\n",
    "        \n",
    "        # Full design SOC of the pack\n",
    "        self.soc_full = pack_soc_full\n",
    "        \n",
    "        # Empty design SOC of the pack\n",
    "        self.soc_empty = pack_soc_empty\n",
    "        \n",
    "        # Energy efficiency of the pack\n",
    "        self.eff = eff/100\n",
    "        \n",
    "        # Defing methods for pack class\n",
    "        \n",
    "        def weight(self):\n",
    "            \n",
    "            return (self.mod_weight*self.num_mod*(1/(1-self.overhead)))\n",
    "        \n",
    "        def energy(self):\n",
    "            \n",
    "            # Pack energy in KWh\n",
    "            return (self.mod_energy*self.num_mod)\n",
    "        \n",
    "        def specific_energy(self):\n",
    "            \n",
    "            # Pack specific energy in Wh/kg\n",
    "            return (1000*self.energy()/self.weight())\n",
    "        \n",
    "        def vmax(self):\n",
    "            \n",
    "            # Max voltage of the pack\n",
    "            return (self.num_mod*self.mod_ser*self.cell_vmax)\n",
    "        \n",
    "        def vnom(self):\n",
    "            \n",
    "            # Nominal voltage of the pack\n",
    "            return (self.num_mod*self.mod_ser*self.cell_vnom)\n",
    "        \n",
    "        def vmin(self):\n",
    "            \n",
    "            # Nominal voltage of the pack\n",
    "            return (self.num_mod*self.mod_ser*self.cell_vmin)\n",
    "        \n",
    "      "
   ]
  },
  {
   "cell_type": "code",
   "execution_count": 181,
   "id": "4222c926",
   "metadata": {},
   "outputs": [
    {
     "data": {
      "text/plain": [
       "3"
      ]
     },
     "execution_count": 181,
     "metadata": {},
     "output_type": "execute_result"
    }
   ],
   "source": [
    "pack1 = pack(3,10,75,25,96,cell1,mod)\n",
    "\n",
    "pack1.num_mod"
   ]
  },
  {
   "cell_type": "markdown",
   "id": "3196df2f",
   "metadata": {},
   "source": [
    "__Class: Motor__"
   ]
  },
  {
   "cell_type": "code",
   "execution_count": null,
   "id": "5183a26e",
   "metadata": {},
   "outputs": [],
   "source": [
    "class motor:\n",
    "    \n",
    "    def __init__(self):\n",
    "        \n",
    "        self"
   ]
  }
 ],
 "metadata": {
  "kernelspec": {
   "display_name": "Python 3 (ipykernel)",
   "language": "python",
   "name": "python3"
  },
  "language_info": {
   "codemirror_mode": {
    "name": "ipython",
    "version": 3
   },
   "file_extension": ".py",
   "mimetype": "text/x-python",
   "name": "python",
   "nbconvert_exporter": "python",
   "pygments_lexer": "ipython3",
   "version": "3.9.15"
  }
 },
 "nbformat": 4,
 "nbformat_minor": 5
}
