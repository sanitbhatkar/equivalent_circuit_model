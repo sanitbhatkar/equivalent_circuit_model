{
 "cells": [
  {
   "cell_type": "code",
   "execution_count": 1,
   "id": "9394cd24",
   "metadata": {},
   "outputs": [],
   "source": [
    "import numpy as np\n",
    "import pandas as pd\n",
    "import matplotlib.pyplot as plt\n",
    "import pickle\n",
    "import os"
   ]
  },
  {
   "cell_type": "markdown",
   "id": "0a61c073",
   "metadata": {},
   "source": [
    "Class object is defined by the author for each subsystem of the model. This simplifies the task of assigning and manipulating the data. "
   ]
  },
  {
   "cell_type": "markdown",
   "id": "70d1c1c5",
   "metadata": {},
   "source": [
    "__Class : Cell__"
   ]
  },
  {
   "cell_type": "code",
   "execution_count": 2,
   "id": "94ae4a2b",
   "metadata": {},
   "outputs": [],
   "source": [
    "class cell:\n",
    "    \n",
    "    def __init__(self,capacity, weight, vmax, vnom, vmin):\n",
    "        \n",
    "        # Cell capacity in Amp-hr\n",
    "        self.capacity = capacity\n",
    "        \n",
    "        # Cell weight in g\n",
    "        self.weight = weight\n",
    "        \n",
    "        \n",
    "        self.vmax = vmax\n",
    "        self.vnom = vnom\n",
    "        self.vmin = vmin\n",
    "        \n",
    "    # Defining methods for cell class\n",
    "    \n",
    "    def energy(self):\n",
    "        \n",
    "        # Cell energy in Watt-hr\n",
    "        return self.vnom*self.capacity\n",
    "    \n",
    "    def specific_energy(self):\n",
    "        \n",
    "        # Cell specific energy Wh/kg\n",
    "        return (1000*self.capacity*self.vnom/self.weight)"
   ]
  },
  {
   "cell_type": "markdown",
   "id": "e5322dbc",
   "metadata": {},
   "source": [
    "__Instancing the Cell class__"
   ]
  },
  {
   "cell_type": "code",
   "execution_count": 16,
   "id": "aa091277",
   "metadata": {},
   "outputs": [
    {
     "name": "stdout",
     "output_type": "stream",
     "text": [
      "57.0\n",
      "126.66666666666667\n"
     ]
    }
   ],
   "source": [
    "cell1 = cell(15,450,4.2,3.8,3.0)\n",
    "\n",
    "print(cell1.energy())\n",
    "print(cell1.specific_energy())"
   ]
  },
  {
   "cell_type": "markdown",
   "id": "8a1baca4",
   "metadata": {},
   "source": [
    "__Class : Module__"
   ]
  },
  {
   "cell_type": "code",
   "execution_count": 4,
   "id": "be7cf012",
   "metadata": {},
   "outputs": [],
   "source": [
    "class module(cell):\n",
    "    \n",
    "    def __init__(self, numpar, numser, overhead, class_cell):\n",
    "        \n",
    "        # Importing the attributes of the Class: Cell\n",
    "        self.cell_cap = class_cell.capacity\n",
    "        self.cell_weight = class_cell.weight\n",
    "        self.cell_energy = class_cell.energy()\n",
    "        \n",
    "        # Number of parallel cells\n",
    "        self.numpar = numpar\n",
    "        \n",
    "        # Number of series cells\n",
    "        self.numser = numser\n",
    "        \n",
    "        # Overhead percentage\n",
    "        # e.g 10% overhead for packaging, electonics, cooling etc\n",
    "        self.overhead = overhead/100\n",
    "        \n",
    "        # Parameters of the cell\n",
    "        self.cell = cell\n",
    "    \n",
    "    # Defining methods for module class\n",
    "\n",
    "    def numcell(self):\n",
    "        \n",
    "        return (self.numpar*self.numser)\n",
    "    \n",
    "    def mod_cap(self):\n",
    "        \n",
    "        return (self.numpar*self.cell_cap)\n",
    "    \n",
    "    def mod_weight(self):\n",
    "        \n",
    "        # Module weight in Kg\n",
    "        return (self.numcell()*self.cell_weight*(1/(1-self.overhead))/1000)\n",
    "    \n",
    "    def mod_energy(self):\n",
    "        \n",
    "        # Module energy in KWh\n",
    "        return (self.numcell()*self.cell_energy/1000)\n",
    "    \n",
    "    def mod_spec_energy(self):\n",
    "        \n",
    "        # Module specific energy in Wh/kg\n",
    "        return (1000*self.mod_energy()/self.mod_weight())\n",
    "        "
   ]
  },
  {
   "cell_type": "markdown",
   "id": "d925ea05",
   "metadata": {},
   "source": [
    "__Instancing the Module class__"
   ]
  },
  {
   "cell_type": "code",
   "execution_count": 17,
   "id": "ba2140a4",
   "metadata": {},
   "outputs": [
    {
     "name": "stdout",
     "output_type": "stream",
     "text": [
      "45\n",
      "11.739130434782608\n",
      "1.368\n",
      "116.53333333333335\n"
     ]
    }
   ],
   "source": [
    "mod = module(3,8,8,cell1)\n",
    "\n",
    "print(mod.mod_cap())\n",
    "print(mod.mod_weight())\n",
    "print(mod.mod_energy())\n",
    "print(mod.mod_spec_energy())"
   ]
  },
  {
   "cell_type": "markdown",
   "id": "69d6394d",
   "metadata": {},
   "source": [
    "__Class : Pack__"
   ]
  },
  {
   "cell_type": "code",
   "execution_count": 6,
   "id": "1a277a34",
   "metadata": {},
   "outputs": [],
   "source": [
    "class pack(module):\n",
    "    \n",
    "    def __init__(self,num_mod_ser,mod_overhead,pack_soc_full,pack_soc_empty,eff,class_cell,class_module):\n",
    "        \n",
    "        # Importing the attributes of the Class : Module\n",
    "        self.mod_numcell = class_module.numcell()\n",
    "        self.mod_weight = class_module.mod_weight()\n",
    "        self.mod_energy = class_module.mod_energy()\n",
    "        self.mod_ser = class_module.numser\n",
    "        \n",
    "        # Importing the attributes of the Class : Cell\n",
    "        self.cell_vmax = class_cell.vmax\n",
    "        self.cell_vnom = class_cell.vnom\n",
    "        self.cell_vmin = class_cell.vmin\n",
    "        \n",
    "  \n",
    "        # Number of modules connected in series\n",
    "        self.num_mod = num_mod_ser\n",
    "        \n",
    "        # Pack assembly overheads\n",
    "        self.overhead = mod_overhead/100\n",
    "        \n",
    "        # Full design SOC of the pack\n",
    "        self.soc_full = pack_soc_full\n",
    "        \n",
    "        # Empty design SOC of the pack\n",
    "        self.soc_empty = pack_soc_empty\n",
    "        \n",
    "        # Energy efficiency of the pack\n",
    "        self.eff = eff/100\n",
    "        \n",
    "    # Defing methods for pack class\n",
    "        \n",
    "    def weight(self):\n",
    "            \n",
    "            return (self.mod_weight*self.num_mod*(1/(1-self.overhead)))\n",
    "        \n",
    "    def energy(self):\n",
    "            \n",
    "            # Pack energy in KWh\n",
    "            return (self.mod_energy*self.num_mod)\n",
    "        \n",
    "    def specific_energy(self):\n",
    "            \n",
    "            # Pack specific energy in Wh/kg\n",
    "            return (1000*self.energy()/self.weight())\n",
    "        \n",
    "    def vmax(self):\n",
    "            \n",
    "            # Max voltage of the pack\n",
    "            return (self.num_mod*self.mod_ser*self.cell_vmax)\n",
    "        \n",
    "    def vnom(self):\n",
    "            \n",
    "            # Nominal voltage of the pack\n",
    "            return (self.num_mod*self.mod_ser*self.cell_vnom)\n",
    "        \n",
    "    def vmin(self):\n",
    "            \n",
    "            # Nominal voltage of the pack\n",
    "            return (self.num_mod*self.mod_ser*self.cell_vmin)\n",
    "        \n",
    "      "
   ]
  },
  {
   "cell_type": "markdown",
   "id": "993349b7",
   "metadata": {},
   "source": [
    "__Instancing Pack class__"
   ]
  },
  {
   "cell_type": "code",
   "execution_count": 18,
   "id": "733df8b4",
   "metadata": {},
   "outputs": [
    {
     "name": "stdout",
     "output_type": "stream",
     "text": [
      "156.52173913043475\n",
      "16.416\n",
      "104.88000000000002\n",
      "403.20000000000005\n",
      "288.0\n",
      "364.79999999999995\n"
     ]
    }
   ],
   "source": [
    "p1 = pack(12,10,75,25,96,cell1,mod)\n",
    "\n",
    "print(p1.weight())\n",
    "print(p1.energy())\n",
    "print(p1.specific_energy())\n",
    "print(p1.vmax())\n",
    "print(p1.vmin())\n",
    "print(p1.vnom())"
   ]
  },
  {
   "cell_type": "markdown",
   "id": "e4ae286e",
   "metadata": {},
   "source": [
    "__Class : Motor__"
   ]
  },
  {
   "cell_type": "code",
   "execution_count": 8,
   "id": "3f9d2f3f",
   "metadata": {},
   "outputs": [],
   "source": [
    "class motor():\n",
    "    \n",
    "    def __init__(self,Tmax,RPMrated,RPMmax,eff,inertia):\n",
    "        \n",
    "        # Maximum motor torque\n",
    "        self.Tmax = Tmax\n",
    "        \n",
    "        # Rated RPM\n",
    "        self.rated_RPM = RPMrated\n",
    "        \n",
    "        # Maximum RPM\n",
    "        self.max_RPM = RPMmax\n",
    "        \n",
    "        # Motor efficiency\n",
    "        self.eff = eff/100\n",
    "        \n",
    "        # Motor Inertia\n",
    "        self.inertia = inertia\n",
    "        \n",
    "    \n",
    "    # Defining methods for motor class\n",
    "    \n",
    "    def max_power(self):\n",
    "        \n",
    "        # Motor power in KW\n",
    "        return (2*np.pi*self.Tmax*self.rated_RPM/60000)"
   ]
  },
  {
   "cell_type": "markdown",
   "id": "fce71b5a",
   "metadata": {},
   "source": [
    "__Instancing motor class__"
   ]
  },
  {
   "cell_type": "code",
   "execution_count": 19,
   "id": "3b3e0f9f",
   "metadata": {},
   "outputs": [
    {
     "name": "stdout",
     "output_type": "stream",
     "text": [
      "115.19173063162575\n"
     ]
    }
   ],
   "source": [
    "m1 = motor(275,4000,12000,95,0.2)\n",
    "\n",
    "print(m1.max_power())"
   ]
  },
  {
   "cell_type": "markdown",
   "id": "230a7140",
   "metadata": {},
   "source": [
    "__Class : Wheel__"
   ]
  },
  {
   "cell_type": "code",
   "execution_count": 10,
   "id": "d71bbb40",
   "metadata": {},
   "outputs": [],
   "source": [
    "class wheel():\n",
    "    \n",
    "    def __init__(self,radius,inertia,rollcoef):\n",
    "        \n",
    "        # Wheel radius in m\n",
    "        self.radius = radius\n",
    "        \n",
    "        # Wheel inertia in kg-m2\n",
    "        self.inertia = inertia\n",
    "        \n",
    "        # Wheel Rolling Coeffcient\n",
    "        self.roll_coef = rollcoef"
   ]
  },
  {
   "cell_type": "markdown",
   "id": "65f0c35a",
   "metadata": {},
   "source": [
    "__Instancing wheel class__"
   ]
  },
  {
   "cell_type": "code",
   "execution_count": 20,
   "id": "39a1d4d8",
   "metadata": {},
   "outputs": [
    {
     "data": {
      "text/plain": [
       "8"
      ]
     },
     "execution_count": 20,
     "metadata": {},
     "output_type": "execute_result"
    }
   ],
   "source": [
    "w1 = wheel(0.35,8,0.0111)\n",
    "w1.inertia"
   ]
  },
  {
   "cell_type": "markdown",
   "id": "5b50fa50",
   "metadata": {},
   "source": [
    "__Class : Drivetrain__"
   ]
  },
  {
   "cell_type": "code",
   "execution_count": 12,
   "id": "6742df1a",
   "metadata": {},
   "outputs": [],
   "source": [
    "class drivetrain(pack,motor):\n",
    "    \n",
    "    def __init__(self,inv_eff,regen_T,gear_ratio,gear_inertia,gear_eff,class_pack,class_motor):\n",
    "        \n",
    "        # Importing attributes of Class : Pack\n",
    "        self.pack_eff = class_pack.eff\n",
    "        \n",
    "        # Importing attributes of Class : Motor\n",
    "        self.motor_eff = class_motor.eff\n",
    "        \n",
    "        # Inverter efficiency\n",
    "        self.inv_eff = inv_eff/100\n",
    "        \n",
    "        # Regeneration Torque\n",
    "        self.T_regen = regen_T\n",
    "        \n",
    "        # Gear Ratio\n",
    "        self.gear_ratio = gear_ratio\n",
    "        \n",
    "        # Gear Inerta\n",
    "        self.gear_inertia = gear_inertia\n",
    "        \n",
    "        # Gear Efficiency\n",
    "        self.gear_eff = gear_eff/100\n",
    "        \n",
    "        \n",
    "    # Defining methods for drivetrain class\n",
    "    \n",
    "    def eff(self):\n",
    "        \n",
    "#         return(self.pack_eff)\n",
    "        \n",
    "        return (self.pack_eff*self.inv_eff*self.motor_eff*self.gear_eff)\n",
    "          "
   ]
  },
  {
   "cell_type": "markdown",
   "id": "4785e708",
   "metadata": {},
   "source": [
    "__Instancing drivetrain class__"
   ]
  },
  {
   "cell_type": "code",
   "execution_count": 21,
   "id": "75ec49b9",
   "metadata": {},
   "outputs": [
    {
     "name": "stdout",
     "output_type": "stream",
     "text": [
      "0.8315615999999998\n"
     ]
    }
   ],
   "source": [
    "d1 = drivetrain(94,0.9,12,0.05,97,p1,m1)\n",
    "\n",
    "d1.gear_eff\n",
    "d1.inv_eff\n",
    "\n",
    "\n",
    "print(d1.eff())"
   ]
  },
  {
   "cell_type": "markdown",
   "id": "f2395f9b",
   "metadata": {},
   "source": [
    "__Class : Vehicle__"
   ]
  },
  {
   "cell_type": "code",
   "execution_count": 14,
   "id": "8839f144",
   "metadata": {},
   "outputs": [],
   "source": [
    "class vehicle(wheel,drivetrain):\n",
    "    \n",
    "    def __init__(self,num_wheel,road_force,cd,A,weight,payload,Poverhead,class_pack,class_motor,class_wheel,class_drivetrain):\n",
    "        \n",
    "        # Importing attributes of Class : Pack\n",
    "        self.pack_weight = class_pack.weight()\n",
    "        \n",
    "        # Importing attributes of CLass : Motor\n",
    "        self.motor_inertia = class_motor.inertia\n",
    "        self.motor_max_RPM = class_motor.max_RPM\n",
    "        \n",
    "        # Importing attributes of Class : Wheel\n",
    "        self.wheel_inertia = class_wheel.inertia\n",
    "        self.wheel_radius = class_wheel.radius\n",
    "        \n",
    "        # Importing attribues of Class : DriveTrain\n",
    "        self.gear_ratio = class_drivetrain.gear_ratio\n",
    "        self.gear_inertia = class_drivetrain.gear_inertia\n",
    "        \n",
    "        \n",
    "        # Number of wheels\n",
    "        self.num_wheel = num_wheel\n",
    "        \n",
    "        # Road force\n",
    "        self.road_force = road_force\n",
    "        \n",
    "        # Aerodynamic drag coeff\n",
    "        self.cd = cd\n",
    "        \n",
    "        # Vehicle frontal area\n",
    "        self.farea = A\n",
    "        \n",
    "        # Vehicle weight\n",
    "        self.weight = weight\n",
    "        \n",
    "        # Vehicle payload\n",
    "        self.payload = payload\n",
    "        \n",
    "        # Overhead Power\n",
    "        self.p_overhead = Poverhead\n",
    "        \n",
    "    \n",
    "    # Defining the methods for vehicle class\n",
    "    \n",
    "    def curb_weight(self):\n",
    "        \n",
    "        # Vehicle curb weight\n",
    "        return (self.weight + self.pack_weight)\n",
    "    \n",
    "    def max_weight(self):\n",
    "        \n",
    "        return (self.curb_weight()+self.payload)\n",
    "    \n",
    "    def rot_weight(self):\n",
    "        \n",
    "        dum = self.motor_inertia + self.gear_inertia\n",
    "        dum = dum*(self.gear_ratio**2)\n",
    "        dum = dum + self.wheel_inertia*self.num_wheel\n",
    "        dum = dum/(self.wheel_radius**2)\n",
    "        \n",
    "        return dum\n",
    "    \n",
    "    def eq_mass(self):\n",
    "        \n",
    "        return (self.max_weight() + self.rot_weight())\n",
    "    \n",
    "    def max_speed(self):\n",
    "        \n",
    "        # velocity in kmph\n",
    "        \n",
    "        dum = 2*np.pi*self.wheel_radius\n",
    "        dum = dum*self.motor_max_RPM\n",
    "        dum = dum*60/(1000*self.gear_ratio)\n",
    "        \n",
    "        return dum   "
   ]
  },
  {
   "cell_type": "markdown",
   "id": "79abd3a1",
   "metadata": {},
   "source": [
    "__Instancing vehicle class__"
   ]
  },
  {
   "cell_type": "code",
   "execution_count": 22,
   "id": "1b40be6a",
   "metadata": {},
   "outputs": [
    {
     "name": "stdout",
     "output_type": "stream",
     "text": [
      "1581.5217391304348\n",
      "1656.5217391304348\n",
      "555.1020408163266\n",
      "2211.6237799467613\n",
      "131.94689145077132\n"
     ]
    }
   ],
   "source": [
    "v1 = vehicle(4,0,0.22,1.84,1425,75,200,p1,m1,w1,d1)\n",
    "\n",
    "print(v1.curb_weight())\n",
    "print(v1.max_weight())\n",
    "print(v1.rot_weight())\n",
    "print(v1.eq_mass())\n",
    "print(v1.max_speed())"
   ]
  }
 ],
 "metadata": {
  "kernelspec": {
   "display_name": "Python 3 (ipykernel)",
   "language": "python",
   "name": "python3"
  },
  "language_info": {
   "codemirror_mode": {
    "name": "ipython",
    "version": 3
   },
   "file_extension": ".py",
   "mimetype": "text/x-python",
   "name": "python",
   "nbconvert_exporter": "python",
   "pygments_lexer": "ipython3",
   "version": "3.9.16"
  }
 },
 "nbformat": 4,
 "nbformat_minor": 5
}
